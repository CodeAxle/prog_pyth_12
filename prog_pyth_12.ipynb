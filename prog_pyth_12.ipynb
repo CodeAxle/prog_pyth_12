{
 "cells": [
  {
   "cell_type": "markdown",
   "id": "c9da444e",
   "metadata": {},
   "source": [
    "# 1."
   ]
  },
  {
   "cell_type": "code",
   "execution_count": 1,
   "id": "6c408a2a",
   "metadata": {},
   "outputs": [
    {
     "name": "stdout",
     "output_type": "stream",
     "text": [
      "Unique values: [1, 2, 3]\n"
     ]
    }
   ],
   "source": [
    "# Sample dictionary\n",
    "sample_dict = {'a': 1, 'b': 2, 'c': 3, 'd': 2, 'e': 1}\n",
    "\n",
    "# Get unique values from dictionary values\n",
    "unique_values = list(set(sample_dict.values()))\n",
    "\n",
    "# Print the unique values\n",
    "print(\"Unique values:\", unique_values)"
   ]
  },
  {
   "cell_type": "markdown",
   "id": "f40da321",
   "metadata": {},
   "source": [
    "# 2."
   ]
  },
  {
   "cell_type": "code",
   "execution_count": 4,
   "id": "3ca5c21e",
   "metadata": {},
   "outputs": [
    {
     "name": "stdout",
     "output_type": "stream",
     "text": [
      "Sum value: 9\n"
     ]
    }
   ],
   "source": [
    "# Sample dictionary\n",
    "sample_dict = {'a': 1, 'b': 2, 'c': 3, 'd': 2, 'e': 1}\n",
    "\n",
    "# Get unique values from dictionary values\n",
    "values = list(sample_dict.values())\n",
    "\n",
    "SUM = sum(values)\n",
    "\n",
    "# Print the unique values\n",
    "print(\"Sum value:\", SUM)"
   ]
  },
  {
   "cell_type": "markdown",
   "id": "f29ebc3b",
   "metadata": {},
   "source": [
    "# 3."
   ]
  },
  {
   "cell_type": "code",
   "execution_count": 5,
   "id": "7a02bf39",
   "metadata": {},
   "outputs": [
    {
     "name": "stdout",
     "output_type": "stream",
     "text": [
      "Merged dictionary using update(): {'a': 10, 'b': 20, 'c': 30, 'd': 40}\n"
     ]
    }
   ],
   "source": [
    "# Two dictionaries to be merged\n",
    "dict1 = {'a': 10, 'b': 20}\n",
    "dict2 = {'c': 30, 'd': 40}\n",
    "\n",
    "# Merge dict2 into dict1 using update()\n",
    "dict1.update(dict2)\n",
    "\n",
    "# Print the merged dictionary\n",
    "print(\"Merged dictionary using update():\", dict1)"
   ]
  },
  {
   "cell_type": "markdown",
   "id": "c6b6d832",
   "metadata": {},
   "source": [
    "# 4."
   ]
  },
  {
   "cell_type": "code",
   "execution_count": 6,
   "id": "e29171e2",
   "metadata": {},
   "outputs": [
    {
     "name": "stdout",
     "output_type": "stream",
     "text": [
      "Flat Dictionary: {'a': 1, 'b': 2, 'c': 3}\n"
     ]
    }
   ],
   "source": [
    "# Key-value list\n",
    "key_value_list = [('a', 1), ('b', 2), ('c', 3)]\n",
    "\n",
    "# Initialize an empty dictionary\n",
    "flat_dict = {}\n",
    "\n",
    "# Iterate through the key-value list and add entries to the flat dictionary\n",
    "for key, value in key_value_list:\n",
    "    flat_dict[key] = value\n",
    "\n",
    "# Print the flat dictionary\n",
    "print(\"Flat Dictionary:\", flat_dict)"
   ]
  },
  {
   "cell_type": "markdown",
   "id": "ba966ec2",
   "metadata": {},
   "source": [
    "# 5."
   ]
  },
  {
   "cell_type": "code",
   "execution_count": 7,
   "id": "20e58a56",
   "metadata": {},
   "outputs": [
    {
     "name": "stdout",
     "output_type": "stream",
     "text": [
      "Original OrderedDict: OrderedDict([('b', 2), ('c', 3)])\n",
      "Modified OrderedDict: OrderedDict([('a', 1), ('b', 2), ('c', 3)])\n"
     ]
    }
   ],
   "source": [
    "from collections import OrderedDict\n",
    "\n",
    "# Create an OrderedDict\n",
    "ordered_dict = OrderedDict([('b', 2), ('c', 3)])\n",
    "\n",
    "# Print the original OrderedDict\n",
    "print(\"Original OrderedDict:\", ordered_dict)\n",
    "\n",
    "# Insert a new key-value pair at the beginning\n",
    "ordered_dict['a'] = 1\n",
    "ordered_dict.move_to_end('a', last=False)\n",
    "\n",
    "# Print the modified OrderedDict\n",
    "print(\"Modified OrderedDict:\", ordered_dict)"
   ]
  },
  {
   "cell_type": "markdown",
   "id": "978a3d93",
   "metadata": {},
   "source": [
    "# 6."
   ]
  },
  {
   "cell_type": "code",
   "execution_count": 8,
   "id": "55d78151",
   "metadata": {},
   "outputs": [
    {
     "name": "stdout",
     "output_type": "stream",
     "text": [
      "False\n",
      "True\n"
     ]
    }
   ],
   "source": [
    "from collections import OrderedDict\n",
    "\n",
    "def check_order(string):\n",
    "    # Create an OrderedDict to store the order of characters\n",
    "    ordered_dict = OrderedDict.fromkeys(string)\n",
    "\n",
    "    # Check if the keys (characters) in the OrderedDict match the input string\n",
    "    return ''.join(ordered_dict.keys()) == string\n",
    "\n",
    "# Test the function\n",
    "input_str = 'hello'\n",
    "print(check_order(input_str))  # Output: True\n",
    "\n",
    "input_str = 'python'\n",
    "print(check_order(input_str))  # Output: False"
   ]
  },
  {
   "cell_type": "markdown",
   "id": "82cd6baf",
   "metadata": {},
   "source": [
    "# 7."
   ]
  },
  {
   "cell_type": "code",
   "execution_count": 9,
   "id": "123f796b",
   "metadata": {},
   "outputs": [
    {
     "name": "stdout",
     "output_type": "stream",
     "text": [
      "[('a', 1), ('b', 2), ('c', 3)]\n"
     ]
    }
   ],
   "source": [
    "# Sample dictionary\n",
    "my_dict = {'c': 3, 'a': 1, 'b': 2}\n",
    "\n",
    "# Sort by keys\n",
    "sorted_dict_keys = sorted(my_dict.items())\n",
    "\n",
    "# Print the sorted dictionary by keys\n",
    "print(sorted_dict_keys)"
   ]
  },
  {
   "cell_type": "code",
   "execution_count": null,
   "id": "28538dcc",
   "metadata": {},
   "outputs": [],
   "source": []
  }
 ],
 "metadata": {
  "kernelspec": {
   "display_name": "Python 3 (ipykernel)",
   "language": "python",
   "name": "python3"
  },
  "language_info": {
   "codemirror_mode": {
    "name": "ipython",
    "version": 3
   },
   "file_extension": ".py",
   "mimetype": "text/x-python",
   "name": "python",
   "nbconvert_exporter": "python",
   "pygments_lexer": "ipython3",
   "version": "3.11.5"
  }
 },
 "nbformat": 4,
 "nbformat_minor": 5
}
